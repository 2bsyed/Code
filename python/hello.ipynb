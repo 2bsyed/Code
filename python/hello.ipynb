{
 "cells": [
  {
   "cell_type": "code",
   "execution_count": 5,
   "metadata": {},
   "outputs": [
    {
     "name": "stdout",
     "output_type": "stream",
     "text": [
      "Hello, World!\n"
     ]
    }
   ],
   "source": [
    "print(\"Hello, World!\")"
   ]
  },
  {
   "cell_type": "code",
   "execution_count": 9,
   "metadata": {},
   "outputs": [
    {
     "name": "stdout",
     "output_type": "stream",
     "text": [
      "Five is greater than two!\n"
     ]
    }
   ],
   "source": [
    "if 5>2:\n",
    "    print(\"Five is greater than two!\")"
   ]
  },
  {
   "cell_type": "code",
   "execution_count": 10,
   "metadata": {},
   "outputs": [],
   "source": [
    "x=5\n",
    "y=\"Hello, World!\""
   ]
  },
  {
   "cell_type": "code",
   "execution_count": 15,
   "metadata": {},
   "outputs": [
    {
     "name": "stdout",
     "output_type": "stream",
     "text": [
      "Hello, World!\n"
     ]
    }
   ],
   "source": [
    "#This is a comment.\n",
    "print(\"Hello, World!\")#this is a comment\n"
   ]
  },
  {
   "cell_type": "code",
   "execution_count": 25,
   "metadata": {},
   "outputs": [
    {
     "name": "stdout",
     "output_type": "stream",
     "text": [
      "33\n"
     ]
    }
   ],
   "source": [
    "x=str('3')\n",
    "y=int(3)\n",
    "z=float(3)\n",
    "print(x+x) #can't use different types of variable in just one print?"
   ]
  },
  {
   "cell_type": "code",
   "execution_count": 30,
   "metadata": {},
   "outputs": [
    {
     "name": "stdout",
     "output_type": "stream",
     "text": [
      "<class 'int'>\n",
      "<class 'str'>\n",
      "Sina\n"
     ]
    }
   ],
   "source": [
    "x=5\n",
    "y=\"John\"\n",
    "#is the same as\n",
    "y='Rita'\n",
    "#Y will not same as y\n",
    "#python is case sensetive\n",
    "Y=\"Sina\"\n",
    "print(type(x))\n",
    "print(type(y))\n",
    "print(Y)"
   ]
  },
  {
   "cell_type": "code",
   "execution_count": null,
   "metadata": {},
   "outputs": [],
   "source": [
    "myvar = \"John\"\n",
    "my_var = \"John\"\n",
    "_my_var = \"John\"\n",
    "myVar = \"John\"\n",
    "MYVAR = \"John\"\n",
    "myvar2 = \"John\"\n",
    "#variable A-z, 0-9, and _ "
   ]
  },
  {
   "cell_type": "code",
   "execution_count": 32,
   "metadata": {},
   "outputs": [
    {
     "name": "stdout",
     "output_type": "stream",
     "text": [
      "Mahin Mouri Fiaz \n"
     ]
    }
   ],
   "source": [
    "x,y,z=\"Mahin \",\"Mouri \",\"Fiaz \"\n",
    "print(x+y+z)"
   ]
  },
  {
   "cell_type": "code",
   "execution_count": 34,
   "metadata": {},
   "outputs": [
    {
     "name": "stdout",
     "output_type": "stream",
     "text": [
      "HaHa HaHa HaHa \n"
     ]
    }
   ],
   "source": [
    "x=y=z=\"HaHa \"\n",
    "print(x+y+z)"
   ]
  },
  {
   "cell_type": "code",
   "execution_count": 36,
   "metadata": {},
   "outputs": [
    {
     "name": "stdout",
     "output_type": "stream",
     "text": [
      "['Apple ', 'Banana ', 'Cherry']\n",
      "Apple Banana Cherry\n"
     ]
    }
   ],
   "source": [
    "fruits=[\"Apple \",\"Banana \",\"Cherry\"]\n",
    "print(fruits)\n",
    "x,y,z=fruits\n",
    "print(x+y+z)"
   ]
  },
  {
   "cell_type": "code",
   "execution_count": 38,
   "metadata": {},
   "outputs": [
    {
     "name": "stdout",
     "output_type": "stream",
     "text": [
      "Python is awesome\n"
     ]
    }
   ],
   "source": [
    "x=\"Python\"\n",
    "y=\"is\"\n",
    "z=\"awesome\"\n",
    "print(x,y,z)\n",
    "#if we use , insted of + we don't need to use \" \" anymore "
   ]
  },
  {
   "cell_type": "code",
   "execution_count": 40,
   "metadata": {},
   "outputs": [
    {
     "name": "stdout",
     "output_type": "stream",
     "text": [
      "15\n"
     ]
    }
   ],
   "source": [
    "x=5\n",
    "y=10\n",
    "print(x+y)"
   ]
  },
  {
   "cell_type": "code",
   "execution_count": 41,
   "metadata": {},
   "outputs": [
    {
     "name": "stdout",
     "output_type": "stream",
     "text": [
      "5 John\n"
     ]
    }
   ],
   "source": [
    "x=5\n",
    "y=\"John\"\n",
    "print(x, y)\n",
    "#here we cant use + for different types but we can use ,"
   ]
  },
  {
   "cell_type": "code",
   "execution_count": 43,
   "metadata": {},
   "outputs": [
    {
     "name": "stdout",
     "output_type": "stream",
     "text": [
      "Python is awesome\n"
     ]
    }
   ],
   "source": [
    "x=\"awesome\"#gloabal variable\n",
    "def myfunc():\n",
    "    print(\"Python is\",x)\n",
    "myfunc()"
   ]
  },
  {
   "cell_type": "code",
   "execution_count": 44,
   "metadata": {},
   "outputs": [
    {
     "name": "stdout",
     "output_type": "stream",
     "text": [
      "Pysthon is fantastic\n"
     ]
    }
   ],
   "source": [
    "def myfunc():\n",
    "    global x #golobal keyward\n",
    "    x=\"fantastic\"\n",
    "myfunc()\n",
    "print(\"Pysthon is\",x)"
   ]
  },
  {
   "cell_type": "code",
   "execution_count": 2,
   "metadata": {},
   "outputs": [
    {
     "name": "stdout",
     "output_type": "stream",
     "text": [
      "('syed', 'abrar', 'fiaz') b'Hello'\n"
     ]
    }
   ],
   "source": [
    "x=(\"syed\",\"abrar\",\"fiaz\")\n",
    "y=b\"Hello\"\n",
    "\n",
    "print(x,y)"
   ]
  },
  {
   "cell_type": "code",
   "execution_count": 5,
   "metadata": {},
   "outputs": [
    {
     "name": "stdout",
     "output_type": "stream",
     "text": [
      "<class 'complex'>\n",
      "<class 'complex'>\n",
      "<class 'complex'>\n"
     ]
    }
   ],
   "source": [
    "x = 3+5j\n",
    "y = 5j\n",
    "z = -5j\n",
    "\n",
    "print(type(x))\n",
    "print(type(y))\n",
    "print(type(z))\n"
   ]
  },
  {
   "cell_type": "code",
   "execution_count": 18,
   "metadata": {},
   "outputs": [
    {
     "name": "stdout",
     "output_type": "stream",
     "text": [
      "2\n"
     ]
    }
   ],
   "source": [
    "import random\n",
    "\n",
    "print(random.randrange(1, 100))"
   ]
  },
  {
   "cell_type": "code",
   "execution_count": 19,
   "metadata": {},
   "outputs": [
    {
     "name": "stdout",
     "output_type": "stream",
     "text": [
      "Lorem ipsum dolor sit amet,\n",
      "consectetur adipiscing elit,\n",
      "sed do eiusmod tempor incididunt\n",
      "ut labore et dolore magna aliqua.\n"
     ]
    }
   ],
   "source": [
    "a = \"\"\"Lorem ipsum dolor sit amet,\n",
    "consectetur adipiscing elit,\n",
    "sed do eiusmod tempor incididunt\n",
    "ut labore et dolore magna aliqua.\"\"\"\n",
    "print(a)"
   ]
  },
  {
   "cell_type": "code",
   "execution_count": 21,
   "metadata": {},
   "outputs": [
    {
     "name": "stdout",
     "output_type": "stream",
     "text": [
      "e\n"
     ]
    }
   ],
   "source": [
    "a = \"Hello, World!\"\n",
    "print(a[1])"
   ]
  },
  {
   "cell_type": "code",
   "execution_count": 3,
   "metadata": {},
   "outputs": [
    {
     "name": "stdout",
     "output_type": "stream",
     "text": [
      "b\n",
      "a\n",
      "a\n",
      "a\n",
      "a\n",
      "a\n",
      "n\n",
      "a\n",
      "n\n",
      "a\n"
     ]
    }
   ],
   "source": [
    "for x in \"baaaaanana\":\n",
    "  print(x)"
   ]
  },
  {
   "cell_type": "code",
   "execution_count": null,
   "metadata": {},
   "outputs": [],
   "source": []
  },
  {
   "cell_type": "code",
   "execution_count": 24,
   "metadata": {},
   "outputs": [
    {
     "name": "stdout",
     "output_type": "stream",
     "text": [
      "13\n"
     ]
    }
   ],
   "source": [
    "a = \"Hello, World!\"\n",
    "print(len(a))"
   ]
  },
  {
   "cell_type": "code",
   "execution_count": 26,
   "metadata": {},
   "outputs": [
    {
     "name": "stdout",
     "output_type": "stream",
     "text": [
      "True\n"
     ]
    }
   ],
   "source": [
    "txt = \"The best things in life are free!\"\n",
    "print(\"free\" in txt)"
   ]
  },
  {
   "cell_type": "code",
   "execution_count": 28,
   "metadata": {},
   "outputs": [
    {
     "name": "stdout",
     "output_type": "stream",
     "text": [
      "Yes, 'free' is present.\n"
     ]
    }
   ],
   "source": [
    "txt = \"The best things in life are free!\"\n",
    "if \"free\" in txt:\n",
    "  print(\"Yes, 'free' is present.\")\n"
   ]
  },
  {
   "cell_type": "code",
   "execution_count": 29,
   "metadata": {},
   "outputs": [
    {
     "name": "stdout",
     "output_type": "stream",
     "text": [
      "True\n"
     ]
    }
   ],
   "source": [
    "txt = \"The best things in life are free!\"\n",
    "print(\"expensive\" not in txt)"
   ]
  },
  {
   "cell_type": "code",
   "execution_count": 33,
   "metadata": {},
   "outputs": [
    {
     "name": "stdout",
     "output_type": "stream",
     "text": [
      "orl\n"
     ]
    }
   ],
   "source": [
    "b=\"Hello, world!\"\n",
    "print(b[-5:-2])"
   ]
  },
  {
   "cell_type": "code",
   "execution_count": 44,
   "metadata": {},
   "outputs": [
    {
     "name": "stdout",
     "output_type": "stream",
     "text": [
      "HELLO, WORLD!\n"
     ]
    }
   ],
   "source": [
    "a = \"Hello, World!\"\n",
    "print(a.upper())"
   ]
  },
  {
   "cell_type": "code",
   "execution_count": 46,
   "metadata": {},
   "outputs": [
    {
     "name": "stdout",
     "output_type": "stream",
     "text": [
      "Hello, World!\n"
     ]
    }
   ],
   "source": [
    "a = \"     Hello, World! \"\n",
    "print(a.strip()) # returns \"Hello, World!\""
   ]
  },
  {
   "cell_type": "code",
   "execution_count": 48,
   "metadata": {},
   "outputs": [
    {
     "name": "stdout",
     "output_type": "stream",
     "text": [
      "Hola, World!\n"
     ]
    }
   ],
   "source": [
    "a = \"Hello, World!\"\n",
    "print(a.replace(\"Hello\", \"Hola\"))"
   ]
  },
  {
   "cell_type": "code",
   "execution_count": 53,
   "metadata": {},
   "outputs": [
    {
     "name": "stdout",
     "output_type": "stream",
     "text": [
      "['Hello', ' World!']\n"
     ]
    }
   ],
   "source": [
    "a = \"Hello, World!\"\n",
    "print(a.split(\",\")) # returns ['Hello', ' World!']\n",
    "#here comma is the sepearator "
   ]
  },
  {
   "cell_type": "code",
   "execution_count": 57,
   "metadata": {},
   "outputs": [
    {
     "name": "stdout",
     "output_type": "stream",
     "text": [
      "Hello World\n"
     ]
    }
   ],
   "source": [
    "a = \"Hello\"\n",
    "b = \"World\"\n",
    "c = a +\" \"+ b\n",
    "print(c)"
   ]
  },
  {
   "cell_type": "code",
   "execution_count": 72,
   "metadata": {},
   "outputs": [
    {
     "name": "stdout",
     "output_type": "stream",
     "text": [
      "I want 3 pieces of item 567 for 49.95 dollars.\n"
     ]
    }
   ],
   "source": [
    "quantity = 3\n",
    "itemno = 567\n",
    "price = 49.95\n",
    "myorder = \"I want {} pieces of item {} for {} dollars.\"\n",
    "print(myorder.format(quantity, itemno, price))"
   ]
  },
  {
   "cell_type": "code",
   "execution_count": 74,
   "metadata": {},
   "outputs": [
    {
     "name": "stdout",
     "output_type": "stream",
     "text": [
      "I want to pay 49.95 dollars for 3 pieces of item 567.\n"
     ]
    }
   ],
   "source": [
    "quantity = 3\n",
    "itemno = 567\n",
    "price = 49.95\n",
    "myorder = \"I want to pay {2} dollars for {0} pieces of item {1}.\"\n",
    "print(myorder.format(quantity, itemno, price))"
   ]
  },
  {
   "cell_type": "code",
   "execution_count": 1,
   "metadata": {},
   "outputs": [
    {
     "name": "stdout",
     "output_type": "stream",
     "text": [
      "Modified String: You are currently studying 7th semester.\n"
     ]
    }
   ],
   "source": [
    "# Process to change \"5th\" to \"7th\" in a given string\n",
    "given_string = \"You are currently studying 5th semester.\"\n",
    "\n",
    "# Replace \"5th\" with \"7th\"\n",
    "modified_string = given_string.replace(\"5th\", \"7th\")\n",
    "\n",
    "print(\"Modified String:\", modified_string)\n"
   ]
  },
  {
   "cell_type": "code",
   "execution_count": 4,
   "metadata": {},
   "outputs": [
    {
     "name": "stdout",
     "output_type": "stream",
     "text": [
      "17\n",
      "6\n"
     ]
    }
   ],
   "source": [
    "name=\" Syed Abarar Fiaz\"\n",
    "name.replace(\"Fiaz\",\"Erteza\")\n",
    "lenth=len(name)\n",
    "print (lenth)\n",
    "v=0\n",
    "vo=\"aeiouAEIOU\"\n",
    "for char in name:\n",
    "    if char in vo:\n",
    "        v+=1\n",
    "print(v)"
   ]
  },
  {
   "cell_type": "code",
   "execution_count": 6,
   "metadata": {},
   "outputs": [
    {
     "name": "stdout",
     "output_type": "stream",
     "text": [
      "syed\n"
     ]
    }
   ],
   "source": [
    "this_dict={'name':'syed','age':24,'sex':'male'}\n",
    "x=input(str())\n",
    "if x in this_dict:\n",
    "    print(this_dict[x])"
   ]
  },
  {
   "cell_type": "code",
   "execution_count": 8,
   "metadata": {},
   "outputs": [
    {
     "name": "stdout",
     "output_type": "stream",
     "text": [
      "hello\n"
     ]
    }
   ],
   "source": [
    "print('hello')"
   ]
  },
  {
   "cell_type": "code",
   "execution_count": 16,
   "metadata": {},
   "outputs": [
    {
     "name": "stdout",
     "output_type": "stream",
     "text": [
      "2 3 4\n",
      "<class 'str'>\n"
     ]
    }
   ],
   "source": [
    "a,b,c=input().split()\n",
    "print(a,b,c)\n",
    "print(type(a))"
   ]
  },
  {
   "cell_type": "code",
   "execution_count": 17,
   "metadata": {},
   "outputs": [
    {
     "name": "stdout",
     "output_type": "stream",
     "text": [
      "hi \n"
     ]
    }
   ],
   "source": [
    "if True:\n",
    "    print( \"hi \")"
   ]
  },
  {
   "cell_type": "code",
   "execution_count": 18,
   "metadata": {},
   "outputs": [
    {
     "name": "stdout",
     "output_type": "stream",
     "text": [
      "My name is Syed.and my age is 24\n"
     ]
    }
   ],
   "source": [
    "x=24\n",
    "y=\"Syed\"\n",
    "print(f'My name is {y}.and my age is {x}')"
   ]
  },
  {
   "cell_type": "code",
   "execution_count": 20,
   "metadata": {},
   "outputs": [
    {
     "name": "stdout",
     "output_type": "stream",
     "text": [
      "6\n"
     ]
    }
   ],
   "source": [
    "stack=[]\n",
    "stack.append(5)\n",
    "stack.append(6)\n",
    "x=stack.pop()\n",
    "print(x)"
   ]
  },
  {
   "cell_type": "code",
   "execution_count": 3,
   "metadata": {},
   "outputs": [
    {
     "name": "stdout",
     "output_type": "stream",
     "text": [
      "User input list: ['1', '2', '3', '4', '5', '6', '7', '-2', '-3']\n"
     ]
    }
   ],
   "source": [
    "\n",
    "\n",
    "user_input_list = []\n",
    "\n",
    "\n",
    "while True:\n",
    "    user_input = input(\"Enter a number (-1 to stop): \")\n",
    "    #a=int(user_input)\n",
    "    if int(user_input) == -1:\n",
    "        break  \n",
    "    else:\n",
    "        user_input_list.append(user_input)  \n",
    "\n",
    "print(\"User input list:\", user_input_list)\n"
   ]
  },
  {
   "cell_type": "code",
   "execution_count": 26,
   "metadata": {},
   "outputs": [
    {
     "name": "stdout",
     "output_type": "stream",
     "text": [
      " deyS Abrar Fiaz\n"
     ]
    }
   ],
   "source": [
    "lst=[i for i in range(0,10)]\n",
    "lst\n",
    "name='Syed Abrar Fiaz'\n",
    "name2=name[4::-1]+' '+name[5:]\n",
    "print(name2)\n",
    "    "
   ]
  },
  {
   "cell_type": "markdown",
   "metadata": {},
   "source": []
  },
  {
   "cell_type": "code",
   "execution_count": 7,
   "metadata": {},
   "outputs": [
    {
     "name": "stdout",
     "output_type": "stream",
     "text": [
      "None\n"
     ]
    }
   ],
   "source": [
    "name=\"sayed\"\n",
    "a=list(name)\n",
    "print(a.reverse())\n"
   ]
  },
  {
   "cell_type": "code",
   "execution_count": 2,
   "metadata": {},
   "outputs": [],
   "source": [
    "import pandas\n",
    "import numpy\n",
    "import statistics\n"
   ]
  },
  {
   "cell_type": "code",
   "execution_count": 6,
   "metadata": {},
   "outputs": [
    {
     "data": {
      "image/png": "[encoded data removed]",
      "text/plain": [
       "<Figure size 640x480 with 1 Axes>"
      ]
     },
     "metadata": {},
     "output_type": "display_data"
    }
   ],
   "source": [
    "import matplotlib.pyplot as plt\n",
    "\n",
    "x = [1, 2, 3, 4, 10]\n",
    "y = [2, 4, 5, 3, 10]\n",
    "\n",
    "plt.plot(x, y)\n",
    "plt.xlabel('X-axis')\n",
    "plt.ylabel('Y-axis')\n",
    "plt.title('Sample Plot')\n",
    "plt.show()"
   ]
  },
  {
   "cell_type": "code",
   "execution_count": 6,
   "metadata": {},
   "outputs": [
    {
     "name": "stdout",
     "output_type": "stream",
     "text": [
      "   year         team  win  draws  losses\n",
      "0  2010  FCBarcelona  NaN      6       2\n",
      "1  2011  FCBarcelona  NaN      7       3\n",
      "2  2012  FCBarcelona  NaN      4       2\n",
      "3  2010      RMadrid  NaN      5       4\n",
      "4  2011      RMadrid  NaN      4       2\n",
      "5  2012      RMadrid  NaN      7       5\n",
      "6  2010   ValenciaCF  NaN      8       9\n",
      "7  2011   ValenciaCF  NaN     10      11\n",
      "8  2012   ValenciaCF  NaN      8      11\n"
     ]
    }
   ],
   "source": [
    "import pandas as pd\n",
    "data = { \"year\" : [2010 , 2011 , 2012 , 2010 , 2011 ,\n",
    "2012 , 2010 , 2011 , 2012 ], \"team\":\n",
    "[\"FCBarcelona\", \"FCBarcelona\", \"FCBarcelona\",\n",
    "\"RMadrid\", \"RMadrid\", \"RMadrid\", \"ValenciaCF\",\n",
    "\"ValenciaCF\",\"ValenciaCF\"], \"wins\": [30, 28, 32,\n",
    "29, 32, 26, 21, 17, 19], \"draws\": [6, 7, 4, 5, 4, 7,\n",
    "8, 10, 8], \"losses\": [2, 3, 2, 4, 2, 5, 9, 11, 11]}\n",
    "football= pd.DataFrame(data, columns = [\"year\",\"team\",\"win\",\"draws\",\"losses\"])\n",
    "print(football)\n"
   ]
  },
  {
   "cell_type": "code",
   "execution_count": 7,
   "metadata": {},
   "outputs": [
    {
     "name": "stdout",
     "output_type": "stream",
     "text": [
      "Input Features (X):\n",
      "  car_name  year  mileage\n",
      "0     city  2010    12000\n",
      "1    civic  2012    15000\n",
      "2     city  2014    14000\n",
      "3   accord  2013    13000\n",
      "4     city  2011    16000\n",
      "5  mustang  2015    17000\n",
      "6     city  2014    14500\n",
      "7    camry  2012    15500\n",
      "\n",
      "Target Variable (y):\n",
      "0    15000\n",
      "1    18000\n",
      "2    16000\n",
      "3    22000\n",
      "4    15500\n",
      "5    27000\n",
      "6    15800\n",
      "7    24000\n",
      "Name: selling_price, dtype: int64\n"
     ]
    }
   ],
   "source": [
    "import pandas as pd\n",
    "\n",
    "# Example DataFrame with a target variable 'selling_price'\n",
    "data = {\n",
    "    'car_name': ['city', 'civic', 'city', 'accord', 'city', 'mustang', 'city', 'camry'],\n",
    "    'year': [2010, 2012, 2014, 2013, 2011, 2015, 2014, 2012],\n",
    "    'mileage': [12000, 15000, 14000, 13000, 16000, 17000, 14500, 15500],\n",
    "    'selling_price': [15000, 18000, 16000, 22000, 15500, 27000, 15800, 24000]\n",
    "}\n",
    "\n",
    "df = pd.DataFrame(data)\n",
    "\n",
    "# Separate the target variable 'selling_price' from the input features\n",
    "X = df.drop('selling_price', axis=1)  # Input features\n",
    "y = df['selling_price']  # Target variable\n",
    "\n",
    "# Print input features and target variable\n",
    "print(\"Input Features (X):\")\n",
    "print(X)\n",
    "\n",
    "print(\"\\nTarget Variable (y):\")\n",
    "print(y)"
   ]
  },
  {
   "cell_type": "code",
   "execution_count": 2,
   "metadata": {},
   "outputs": [
    {
     "name": "stdout",
     "output_type": "stream",
     "text": [
      "Missing information in the dataset:\n",
      "car_name         1\n",
      "year             1\n",
      "mileage          2\n",
      "selling_price    1\n",
      "dtype: int64\n",
      "\n",
      "Percentage of missing data in each column:\n",
      "car_name         12.5\n",
      "year             12.5\n",
      "mileage          25.0\n",
      "selling_price    12.5\n",
      "dtype: float64\n",
      "  car_name    year  mileage  selling_price\n",
      "0     cita  2010.0  12000.0        15000.0\n",
      "1    civic  2012.0  15000.0        18000.0\n",
      "2     cita     NaN  14000.0        16000.0\n",
      "3   accord  2013.0      NaN        22000.0\n",
      "4     cita  2011.0  16000.0        15500.0\n",
      "5  mustang  2015.0  17000.0        27000.0\n",
      "6     cita  2014.0      NaN        15800.0\n",
      "7     None  2012.0  15500.0            NaN\n"
     ]
    }
   ],
   "source": [
    "import pandas as pd\n",
    "\n",
    "# Example DataFrame with some missing values\n",
    "data = {\n",
    "    'car_name': ['city', 'civic', 'city', 'accord', 'city', 'mustang', 'city', None],\n",
    "    'year': [2010, 2012, None, 2013, 2011, 2015, 2014, 2012],\n",
    "    'mileage': [12000, 15000, 14000, None, 16000, 17000, None, 15500],\n",
    "    'selling_price': [15000, 18000, 16000, 22000, 15500, 27000, 15800, None]\n",
    "}\n",
    "\n",
    "df = pd.DataFrame(data)\n",
    "\n",
    "# Check for missing values in the dataset\n",
    "missing_info = df.isnull().sum()\n",
    "\n",
    "# Print the number of missing values in each column\n",
    "print(\"Missing information in the dataset:\")\n",
    "print(missing_info)\n",
    "# Optional: To get the percentage of missing data in each column\n",
    "missing_percentage = df.isnull().mean() * 100\n",
    "print(\"\\nPercentage of missing data in each column:\")\n",
    "print(missing_percentage)\n",
    "df['car_name']= df['car_name'].replace('city', 'cita')\n",
    "print(df)"
   ]
  },
  {
   "cell_type": "code",
   "execution_count": 1,
   "metadata": {},
   "outputs": [
    {
     "name": "stdout",
     "output_type": "stream",
     "text": [
      "[ True False False]\n"
     ]
    }
   ],
   "source": [
    "import numpy as np\n",
    "data=[5,6,7];\n",
    "#data=np.delete(data,np.isin(data,5))\n",
    "print(np.isin(data,5))"
   ]
  }
 ],
 "metadata": {
  "kernelspec": {
   "display_name": "Python 3",
   "language": "python",
   "name": "python3"
  },
  "language_info": {
   "codemirror_mode": {
    "name": "ipython",
    "version": 3
   },
   "file_extension": ".py",
   "mimetype": "text/x-python",
   "name": "python",
   "nbconvert_exporter": "python",
   "pygments_lexer": "ipython3",
   "version": "3.12.6"
  }
 },
 "nbformat": 4,
 "nbformat_minor": 2
}
